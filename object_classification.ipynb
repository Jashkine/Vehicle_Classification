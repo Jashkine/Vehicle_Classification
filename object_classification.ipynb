{
  "nbformat": 4,
  "nbformat_minor": 0,
  "metadata": {
    "colab": {
      "provenance": []
    },
    "kernelspec": {
      "name": "python3",
      "display_name": "Python 3"
    },
    "language_info": {
      "name": "python"
    }
  },
  "cells": [
    {
      "cell_type": "code",
      "source": [
        "import matplotlib.pyplot as plt\n",
        "import numpy as np\n",
        "import PIL\n",
        "import tensorflow as tf\n",
        "from tensorflow import keras\n",
        "from tensorflow.keras.layers import Dense\n",
        "from tensorflow.keras.layers import Flatten\n",
        "from tensorflow.keras import layers\n",
        "from tensorflow.keras.models import Sequential\n",
        "from tensorflow.keras.optimizers import Adam\n",
        "from tensorflow.keras.layers import Conv2D\n",
        "from keras.layers import Dense,Flatten,Conv2D,MaxPooling2D,Dropout\n",
        "import pathlib\n",
        "from google.colab import drive\n",
        "from sklearn.metrics import confusion_matrix,roc_curve,ConfusionMatrixDisplay"
      ],
      "metadata": {
        "id": "Cd8DTxcRjxpD"
      },
      "execution_count": 2,
      "outputs": []
    },
    {
      "cell_type": "markdown",
      "source": [
        "Data link - https://drive.google.com/drive/folders/1M6yrWYoC50Xs0rPI_Pc7cMx2SuH6i1UL?usp=share_link"
      ],
      "metadata": {
        "id": "VMMSYEoWaThR"
      }
    },
    {
      "cell_type": "code",
      "source": [
        "#Reading data from google drive\n",
        "drive.mount('/content/gdrive',force_remount= True)\n",
        "img_dir = '/content/gdrive/MyDrive/Vehicle/data'\n",
        "data_dir = pathlib.Path(img_dir)"
      ],
      "metadata": {
        "colab": {
          "base_uri": "https://localhost:8080/"
        },
        "id": "TuodqAh5j0sS",
        "outputId": "7d82cee0-a89e-4ebf-bc4f-beca2957eac6"
      },
      "execution_count": 3,
      "outputs": [
        {
          "output_type": "stream",
          "name": "stdout",
          "text": [
            "Mounted at /content/gdrive\n"
          ]
        }
      ]
    },
    {
      "cell_type": "code",
      "source": [
        "def process(image,label):\n",
        "    image = tf.cast(image/255. ,tf.float32)\n",
        "    return image,label\n",
        "\n",
        "ds = tf.keras.preprocessing.image_dataset_from_directory(data_dir)\n",
        "ds = ds.map(process)"
      ],
      "metadata": {
        "colab": {
          "base_uri": "https://localhost:8080/"
        },
        "id": "4XNWxXoYkQFT",
        "outputId": "1c2d8340-b9b2-492c-e14f-805527365036"
      },
      "execution_count": 4,
      "outputs": [
        {
          "output_type": "stream",
          "name": "stdout",
          "text": [
            "Found 3033 files belonging to 2 classes.\n"
          ]
        }
      ]
    },
    {
      "cell_type": "code",
      "source": [
        "#Splitting data into training and validation set (resizing image into 64x64)\n",
        "img_height,img_width=64,64\n",
        "batchsize=32\n",
        "train_ds = tf.keras.preprocessing.image_dataset_from_directory(\n",
        "  data_dir,\n",
        "  validation_split=0.2,\n",
        "  subset=\"training\",\n",
        "  seed=123,\n",
        "  image_size=(img_height, img_width),\n",
        "  batch_size=batchsize)"
      ],
      "metadata": {
        "colab": {
          "base_uri": "https://localhost:8080/"
        },
        "id": "DRh2qL_3mqyd",
        "outputId": "b9822bb4-2a02-4083-d8ab-5e6da34f4fa9"
      },
      "execution_count": 5,
      "outputs": [
        {
          "output_type": "stream",
          "name": "stdout",
          "text": [
            "Found 3033 files belonging to 2 classes.\n",
            "Using 2427 files for training.\n"
          ]
        }
      ]
    },
    {
      "cell_type": "code",
      "source": [
        "val_ds= tf.keras.preprocessing.image_dataset_from_directory(\n",
        "  data_dir,\n",
        "  validation_split=0.2,\n",
        "  subset=\"validation\",\n",
        "  seed=123,\n",
        "  image_size=(img_height, img_width),\n",
        "  batch_size=batchsize)"
      ],
      "metadata": {
        "colab": {
          "base_uri": "https://localhost:8080/"
        },
        "id": "C_aTYsr6mubf",
        "outputId": "d806e821-3955-473b-a2fb-4afbfffdc03b"
      },
      "execution_count": 6,
      "outputs": [
        {
          "output_type": "stream",
          "name": "stdout",
          "text": [
            "Found 3033 files belonging to 2 classes.\n",
            "Using 606 files for validation.\n"
          ]
        }
      ]
    },
    {
      "cell_type": "code",
      "source": [
        "#Model building\n",
        "model = Sequential()\n",
        "model.add(Conv2D(32,(5,5),activation='relu',input_shape = (64,64,3)))\n",
        "model.add(MaxPooling2D(pool_size = (2,2)))\n",
        "model.add(Conv2D(32,(5,5),activation='relu'))\n",
        "model.add(MaxPooling2D(pool_size = (2,2)))\n",
        "# Adding a flatting layer\n",
        "model.add(Flatten())\n",
        "# Adding layers\n",
        "model.add(Dense(32,activation = 'relu'))\n",
        "model.add(Dropout(0.1))\n",
        "model.add(Dense(64,activation = 'relu'))\n",
        "model.add(Dropout(0.2))\n",
        "model.add(Dense(2,activation = 'softmax'))"
      ],
      "metadata": {
        "id": "J_ckm242nQUU"
      },
      "execution_count": 7,
      "outputs": []
    },
    {
      "cell_type": "code",
      "source": [
        "# model.compile(optimizer = 'adam',loss = 'binary_crossentropy',metrics = ['accuracy'])\n",
        "model.summary()"
      ],
      "metadata": {
        "id": "tzNAeDVHnZ1F",
        "colab": {
          "base_uri": "https://localhost:8080/"
        },
        "outputId": "e2f733cd-597c-4d96-a4ab-c3a82a0ee13d"
      },
      "execution_count": 8,
      "outputs": [
        {
          "output_type": "stream",
          "name": "stdout",
          "text": [
            "Model: \"sequential\"\n",
            "_________________________________________________________________\n",
            " Layer (type)                Output Shape              Param #   \n",
            "=================================================================\n",
            " conv2d (Conv2D)             (None, 60, 60, 32)        2432      \n",
            "                                                                 \n",
            " max_pooling2d (MaxPooling2D  (None, 30, 30, 32)       0         \n",
            " )                                                               \n",
            "                                                                 \n",
            " conv2d_1 (Conv2D)           (None, 26, 26, 32)        25632     \n",
            "                                                                 \n",
            " max_pooling2d_1 (MaxPooling  (None, 13, 13, 32)       0         \n",
            " 2D)                                                             \n",
            "                                                                 \n",
            " flatten (Flatten)           (None, 5408)              0         \n",
            "                                                                 \n",
            " dense (Dense)               (None, 32)                173088    \n",
            "                                                                 \n",
            " dropout (Dropout)           (None, 32)                0         \n",
            "                                                                 \n",
            " dense_1 (Dense)             (None, 64)                2112      \n",
            "                                                                 \n",
            " dropout_1 (Dropout)         (None, 64)                0         \n",
            "                                                                 \n",
            " dense_2 (Dense)             (None, 2)                 130       \n",
            "                                                                 \n",
            "=================================================================\n",
            "Total params: 203,394\n",
            "Trainable params: 203,394\n",
            "Non-trainable params: 0\n",
            "_________________________________________________________________\n"
          ]
        }
      ]
    },
    {
      "cell_type": "code",
      "source": [
        "#Model training and validation\n",
        "epoch_num = 15\n",
        "model.compile(optimizer=Adam(learning_rate=0.001),loss='sparse_categorical_crossentropy',metrics=['accuracy'])\n"
      ],
      "metadata": {
        "id": "_AJoc8tSnhmc"
      },
      "execution_count": 9,
      "outputs": []
    },
    {
      "cell_type": "code",
      "source": [
        "history = model.fit(train_ds, validation_data=val_ds, epochs=epoch_num)"
      ],
      "metadata": {
        "colab": {
          "base_uri": "https://localhost:8080/"
        },
        "id": "N5jZmbxVnqop",
        "outputId": "4d4ce507-f2bb-47e1-e20f-766ae933777e"
      },
      "execution_count": 10,
      "outputs": [
        {
          "output_type": "stream",
          "name": "stdout",
          "text": [
            "Epoch 1/15\n",
            "76/76 [==============================] - 26s 305ms/step - loss: 1.3689 - accuracy: 0.7309 - val_loss: 0.2665 - val_accuracy: 0.9191\n",
            "Epoch 2/15\n",
            "76/76 [==============================] - 23s 301ms/step - loss: 0.2599 - accuracy: 0.9081 - val_loss: 0.1829 - val_accuracy: 0.9439\n",
            "Epoch 3/15\n",
            "76/76 [==============================] - 24s 307ms/step - loss: 0.1266 - accuracy: 0.9596 - val_loss: 0.0813 - val_accuracy: 0.9769\n",
            "Epoch 4/15\n",
            "76/76 [==============================] - 23s 303ms/step - loss: 0.1221 - accuracy: 0.9592 - val_loss: 0.1348 - val_accuracy: 0.9637\n",
            "Epoch 5/15\n",
            "76/76 [==============================] - 22s 282ms/step - loss: 0.1244 - accuracy: 0.9621 - val_loss: 0.1323 - val_accuracy: 0.9736\n",
            "Epoch 6/15\n",
            "76/76 [==============================] - 21s 278ms/step - loss: 0.0562 - accuracy: 0.9831 - val_loss: 0.0470 - val_accuracy: 0.9901\n",
            "Epoch 7/15\n",
            "76/76 [==============================] - 22s 279ms/step - loss: 0.0724 - accuracy: 0.9810 - val_loss: 0.0528 - val_accuracy: 0.9802\n",
            "Epoch 8/15\n",
            "76/76 [==============================] - 23s 305ms/step - loss: 0.0486 - accuracy: 0.9843 - val_loss: 0.1914 - val_accuracy: 0.9538\n",
            "Epoch 9/15\n",
            "76/76 [==============================] - 23s 301ms/step - loss: 0.0684 - accuracy: 0.9798 - val_loss: 0.0406 - val_accuracy: 0.9884\n",
            "Epoch 10/15\n",
            "76/76 [==============================] - 23s 302ms/step - loss: 0.1217 - accuracy: 0.9691 - val_loss: 0.1923 - val_accuracy: 0.9703\n",
            "Epoch 11/15\n",
            "76/76 [==============================] - 21s 274ms/step - loss: 0.0687 - accuracy: 0.9831 - val_loss: 0.0774 - val_accuracy: 0.9769\n",
            "Epoch 12/15\n",
            "76/76 [==============================] - 21s 274ms/step - loss: 0.0151 - accuracy: 0.9951 - val_loss: 0.0356 - val_accuracy: 0.9917\n",
            "Epoch 13/15\n",
            "76/76 [==============================] - 23s 302ms/step - loss: 0.0209 - accuracy: 0.9926 - val_loss: 0.0338 - val_accuracy: 0.9851\n",
            "Epoch 14/15\n",
            "76/76 [==============================] - 22s 280ms/step - loss: 0.0240 - accuracy: 0.9934 - val_loss: 0.0596 - val_accuracy: 0.9752\n",
            "Epoch 15/15\n",
            "76/76 [==============================] - 23s 303ms/step - loss: 0.0171 - accuracy: 0.9938 - val_loss: 0.0550 - val_accuracy: 0.9884\n"
          ]
        }
      ]
    },
    {
      "cell_type": "code",
      "source": [
        "import tensorflow as tf\n",
        "y_true = []\n",
        "y_pred = []\n",
        "for x,y in val_ds:\n",
        "  # y = tf.argmax(y,axis=1)\n",
        "  y_true.append(y)\n",
        "  y_pred.append(tf.argmax(model.predict(x),axis = 1))\n",
        "  \n",
        "y_pred = tf.concat(y_pred, axis=0)\n",
        "y_true = tf.concat(y_true, axis=0)"
      ],
      "metadata": {
        "colab": {
          "base_uri": "https://localhost:8080/"
        },
        "id": "Lo9X8itlmAhq",
        "outputId": "95bdd94b-f112-432e-8f45-7f66adf3a2f3"
      },
      "execution_count": 11,
      "outputs": [
        {
          "output_type": "stream",
          "name": "stdout",
          "text": [
            "1/1 [==============================] - 0s 169ms/step\n",
            "1/1 [==============================] - 0s 70ms/step\n",
            "1/1 [==============================] - 0s 67ms/step\n",
            "1/1 [==============================] - 0s 73ms/step\n",
            "1/1 [==============================] - 0s 65ms/step\n",
            "1/1 [==============================] - 0s 75ms/step\n",
            "1/1 [==============================] - 0s 82ms/step\n",
            "1/1 [==============================] - 0s 68ms/step\n",
            "1/1 [==============================] - 0s 73ms/step\n",
            "1/1 [==============================] - 0s 77ms/step\n",
            "1/1 [==============================] - 0s 67ms/step\n",
            "1/1 [==============================] - 0s 67ms/step\n",
            "1/1 [==============================] - 0s 66ms/step\n",
            "1/1 [==============================] - 0s 78ms/step\n",
            "1/1 [==============================] - 0s 77ms/step\n",
            "1/1 [==============================] - 0s 81ms/step\n",
            "1/1 [==============================] - 0s 71ms/step\n",
            "1/1 [==============================] - 0s 72ms/step\n",
            "1/1 [==============================] - 0s 123ms/step\n"
          ]
        }
      ]
    },
    {
      "cell_type": "code",
      "source": [
        "#ROC Plot\n",
        "fpr,tpr,thresholds = roc_curve(y_true,y_pred)\n",
        "plt.plot(fpr,tpr)\n",
        "plt.xlabel(\"False poitive Rate\")\n",
        "plt.ylabel(\"True Pegetive Rate\")\n",
        "plt.title(\"ROC\")"
      ],
      "metadata": {
        "colab": {
          "base_uri": "https://localhost:8080/",
          "height": 312
        },
        "id": "pNoKkj7roRXW",
        "outputId": "3f6348a5-0237-4750-d405-764f1a6724fa"
      },
      "execution_count": 12,
      "outputs": [
        {
          "output_type": "execute_result",
          "data": {
            "text/plain": [
              "Text(0.5, 1.0, 'ROC')"
            ]
          },
          "metadata": {},
          "execution_count": 12
        },
        {
          "output_type": "display_data",
          "data": {
            "text/plain": [
              "<Figure size 432x288 with 1 Axes>"
            ],
            "image/png": "[encoded data removed]"
          },
          "metadata": {
            "needs_background": "light"
          }
        }
      ]
    },
    {
      "cell_type": "code",
      "source": [
        "#Confusion metric\n",
        "cm = confusion_matrix(y_true,y_pred)\n",
        "disp = ConfusionMatrixDisplay(confusion_matrix=cm)\n",
        "disp.plot()\n",
        "plt.show()"
      ],
      "metadata": {
        "colab": {
          "base_uri": "https://localhost:8080/",
          "height": 279
        },
        "id": "xdDKcQXOoTjx",
        "outputId": "ca08924e-c00b-4399-d101-db63974e5b90"
      },
      "execution_count": 13,
      "outputs": [
        {
          "output_type": "display_data",
          "data": {
            "text/plain": [
              "<Figure size 432x288 with 2 Axes>"
            ],
            "image/png": "[encoded data removed]"
          },
          "metadata": {
            "needs_background": "light"
          }
        }
      ]
    },
    {
      "cell_type": "code",
      "source": [
        "#Plotting training and validation accuracy\n",
        "x = np.linspace(1,epoch_num,epoch_num)\n",
        "fig1 = plt.gcf()\n",
        "plt.plot(x,history.history['accuracy'],marker = 'o')\n",
        "plt.plot(x,history.history['val_accuracy'],marker = 'o')\n",
        "plt.axis(ymin=0.7,ymax=1.03)\n",
        "plt.grid()\n",
        "plt.title('Model Accuracy')\n",
        "plt.ylabel('Accuracy')\n",
        "plt.xlabel('Epochs')\n",
        "plt.legend(['Train', 'Validation'])\n",
        "plt.show()"
      ],
      "metadata": {
        "colab": {
          "base_uri": "https://localhost:8080/",
          "height": 295
        },
        "id": "njUbxQLvoYQZ",
        "outputId": "3ac6a011-b9c6-4815-cab2-4a816e31a35b"
      },
      "execution_count": 17,
      "outputs": [
        {
          "output_type": "display_data",
          "data": {
            "text/plain": [
              "<Figure size 432x288 with 1 Axes>"
            ],
            "image/png": "[encoded data removed]"
          },
          "metadata": {
            "needs_background": "light"
          }
        }
      ]
    },
    {
      "cell_type": "code",
      "source": [
        "#Plotting training and validation loss\n",
        "x = np.linspace(1,epoch_num,epoch_num)\n",
        "fig1 = plt.gcf()\n",
        "plt.plot(x,history.history['loss'],marker = 'o')\n",
        "plt.plot(x,history.history['val_loss'],marker = 'o')\n",
        "# plt.axis(ymin=0.9,ymax=1.03)\n",
        "plt.grid()\n",
        "plt.title('Model loss')\n",
        "plt.ylabel('Loss')\n",
        "plt.xlabel('Epochs')\n",
        "plt.legend(['Train', 'Validation'])\n",
        "plt.show()"
      ],
      "metadata": {
        "colab": {
          "base_uri": "https://localhost:8080/",
          "height": 295
        },
        "id": "zBrR_olC2e8J",
        "outputId": "ca280926-4123-44ca-bc30-cb42cd765bb5"
      },
      "execution_count": 18,
      "outputs": [
        {
          "output_type": "display_data",
          "data": {
            "text/plain": [
              "<Figure size 432x288 with 1 Axes>"
            ],
            "image/png": "[encoded data removed]"
          },
          "metadata": {
            "needs_background": "light"
          }
        }
      ]
    },
    {
      "cell_type": "code",
      "source": [
        "#Reading NORMAL chest X-ray\n",
        "import cv2\n",
        "image=cv2.imread('/content/gdrive/MyDrive/Vehicle/data/non-vehicles/extra26.png')\n",
        "image_resized= cv2.resize(image, (img_height,img_width))\n",
        "image=np.expand_dims(image_resized,axis=0)"
      ],
      "metadata": {
        "id": "YqXqia3roesD"
      },
      "execution_count": 34,
      "outputs": []
    },
    {
      "cell_type": "code",
      "source": [
        "#Predicting the image class\n",
        "pred=model.predict(image)\n",
        "pred"
      ],
      "metadata": {
        "colab": {
          "base_uri": "https://localhost:8080/"
        },
        "id": "sGzL3iy3ohI0",
        "outputId": "0f9d32c1-8ec6-4875-e863-f7a4ad46f366"
      },
      "execution_count": 35,
      "outputs": [
        {
          "output_type": "stream",
          "name": "stdout",
          "text": [
            "1/1 [==============================] - 0s 22ms/step\n"
          ]
        },
        {
          "output_type": "execute_result",
          "data": {
            "text/plain": [
              "array([[0.99729747, 0.00270253]], dtype=float32)"
            ]
          },
          "metadata": {},
          "execution_count": 35
        }
      ]
    },
    {
      "cell_type": "markdown",
      "source": [
        "Non-vehicle:0\n",
        "Vehicle:1"
      ],
      "metadata": {
        "id": "l9SXp4P-Qrhy"
      }
    },
    {
      "cell_type": "code",
      "source": [
        "from IPython.display import Image\n",
        "output_class=np.argmax(pred)\n",
        "if output_class == 0:\n",
        "  print(\"The given image is not a vehicle\")\n",
        "elif output_class == 1:\n",
        "  print(\"The given image is a vehicle\")\n",
        "else:\n",
        "  pass\n",
        "Image(filename ='/content/gdrive/MyDrive/Vehicle/data/non-vehicles/extra26.png')"
      ],
      "metadata": {
        "colab": {
          "base_uri": "https://localhost:8080/",
          "height": 98
        },
        "id": "DXxwMyvDounF",
        "outputId": "c1e61c36-a4b2-4cfc-ac90-f4c73fd9ffa1"
      },
      "execution_count": 36,
      "outputs": [
        {
          "output_type": "stream",
          "name": "stdout",
          "text": [
            "The given image is not a vehicle\n"
          ]
        },
        {
          "output_type": "execute_result",
          "data": {
            "image/png": "[encoded data removed]",
            "text/plain": [
              "<IPython.core.display.Image object>"
            ]
          },
          "metadata": {},
          "execution_count": 36
        }
      ]
    }
  ]
}